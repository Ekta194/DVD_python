{
 "cells": [
  {
   "cell_type": "code",
   "execution_count": 1,
   "id": "aa571939",
   "metadata": {},
   "outputs": [
    {
     "name": "stdout",
     "output_type": "stream",
     "text": [
      "hello world\n"
     ]
    }
   ],
   "source": [
    "print(\"hello world\")"
   ]
  },
  {
   "cell_type": "markdown",
   "id": "91a10349",
   "metadata": {},
   "source": [
    "# string"
   ]
  },
  {
   "cell_type": "code",
   "execution_count": 47,
   "id": "ef3f434c",
   "metadata": {},
   "outputs": [],
   "source": [
    "my_string = 'mynameisekta'"
   ]
  },
  {
   "cell_type": "code",
   "execution_count": 48,
   "id": "26ac25e7",
   "metadata": {},
   "outputs": [
    {
     "name": "stdout",
     "output_type": "stream",
     "text": [
      "mynameisekta\n"
     ]
    }
   ],
   "source": [
    "print(my_string)"
   ]
  },
  {
   "cell_type": "code",
   "execution_count": 49,
   "id": "eb732dd8",
   "metadata": {},
   "outputs": [
    {
     "name": "stdout",
     "output_type": "stream",
     "text": [
      "myna\n"
     ]
    }
   ],
   "source": [
    "print(my_string[0:4])"
   ]
  },
  {
   "cell_type": "code",
   "execution_count": 50,
   "id": "d0c2a4a4",
   "metadata": {},
   "outputs": [],
   "source": [
    "number_string='123456789'"
   ]
  },
  {
   "cell_type": "code",
   "execution_count": 51,
   "id": "6d4d6d66",
   "metadata": {},
   "outputs": [
    {
     "data": {
      "text/plain": [
       "'1'"
      ]
     },
     "execution_count": 51,
     "metadata": {},
     "output_type": "execute_result"
    }
   ],
   "source": [
    "number_string[0]"
   ]
  },
  {
   "cell_type": "markdown",
   "id": "d1c8c128",
   "metadata": {},
   "source": [
    "# integer"
   ]
  },
  {
   "cell_type": "code",
   "execution_count": 52,
   "id": "d1d02b1a",
   "metadata": {},
   "outputs": [],
   "source": [
    "my_int = 456"
   ]
  },
  {
   "cell_type": "code",
   "execution_count": 53,
   "id": "13eb5150",
   "metadata": {},
   "outputs": [
    {
     "name": "stdout",
     "output_type": "stream",
     "text": [
      "456\n"
     ]
    }
   ],
   "source": [
    "print(my_int)"
   ]
  },
  {
   "cell_type": "code",
   "execution_count": 54,
   "id": "94618aab",
   "metadata": {},
   "outputs": [
    {
     "data": {
      "text/plain": [
       "int"
      ]
     },
     "execution_count": 54,
     "metadata": {},
     "output_type": "execute_result"
    }
   ],
   "source": [
    "(type(my_int))"
   ]
  },
  {
   "cell_type": "markdown",
   "id": "8fa22631",
   "metadata": {},
   "source": [
    "# float"
   ]
  },
  {
   "cell_type": "code",
   "execution_count": 73,
   "id": "7344b0e0",
   "metadata": {},
   "outputs": [],
   "source": [
    "A=my_int/7"
   ]
  },
  {
   "cell_type": "code",
   "execution_count": 74,
   "id": "22b00626",
   "metadata": {},
   "outputs": [
    {
     "name": "stdout",
     "output_type": "stream",
     "text": [
      "65.14285714285714\n"
     ]
    }
   ],
   "source": [
    "print(A)"
   ]
  },
  {
   "cell_type": "code",
   "execution_count": 55,
   "id": "26942a88",
   "metadata": {},
   "outputs": [
    {
     "data": {
      "text/plain": [
       "float"
      ]
     },
     "execution_count": 55,
     "metadata": {},
     "output_type": "execute_result"
    }
   ],
   "source": [
    "type((my_int/4)*4)"
   ]
  },
  {
   "cell_type": "code",
   "execution_count": 57,
   "id": "8c68aa2c",
   "metadata": {},
   "outputs": [
    {
     "data": {
      "text/plain": [
       "(1, 0, 0)"
      ]
     },
     "execution_count": 57,
     "metadata": {},
     "output_type": "execute_result"
    }
   ],
   "source": [
    "1,000,000"
   ]
  },
  {
   "cell_type": "code",
   "execution_count": 58,
   "id": "e5d62732",
   "metadata": {},
   "outputs": [
    {
     "data": {
      "text/plain": [
       "'1,000,000'"
      ]
     },
     "execution_count": 58,
     "metadata": {},
     "output_type": "execute_result"
    }
   ],
   "source": [
    "\"1,000,000\""
   ]
  },
  {
   "cell_type": "markdown",
   "id": "534d2454",
   "metadata": {},
   "source": [
    "# Data Structure: tuple"
   ]
  },
  {
   "cell_type": "code",
   "execution_count": 59,
   "id": "858be4f6",
   "metadata": {},
   "outputs": [
    {
     "data": {
      "text/plain": [
       "'\\ntuple[index]: Accesses the element at the specified index.\\ntuple.count(value): Returns the number of occurrences of a value in the tuple.\\ntuple.index(value[, start[, end]]): Returns the index of the first occurrence of a value in the tuple (optional start and end parameters limit the search range)\\n'"
      ]
     },
     "execution_count": 59,
     "metadata": {},
     "output_type": "execute_result"
    }
   ],
   "source": [
    "#len(tuple): Returns the length of the tuple.\n",
    "'''\n",
    "tuple[index]: Accesses the element at the specified index.\n",
    "tuple.count(value): Returns the number of occurrences of a value in the tuple.\n",
    "tuple.index(value[, start[, end]]): Returns the index of the first occurrence of a value in the tuple (optional start and end parameters limit the search range)\n",
    "'''\n"
   ]
  },
  {
   "cell_type": "code",
   "execution_count": 60,
   "id": "59c24b35",
   "metadata": {},
   "outputs": [],
   "source": [
    "my_tup = (1,3.17,6, 'dsfadgaf' , 'bob' , 'bob' , 65)"
   ]
  },
  {
   "cell_type": "markdown",
   "id": "874b346c",
   "metadata": {},
   "source": [
    "my_tup.count('bob')"
   ]
  },
  {
   "cell_type": "code",
   "execution_count": 62,
   "id": "df8a5f88",
   "metadata": {},
   "outputs": [
    {
     "data": {
      "text/plain": [
       "0"
      ]
     },
     "execution_count": 62,
     "metadata": {},
     "output_type": "execute_result"
    }
   ],
   "source": [
    "my_tup.index(1)"
   ]
  },
  {
   "cell_type": "code",
   "execution_count": 63,
   "id": "8c8c87f3",
   "metadata": {},
   "outputs": [
    {
     "data": {
      "text/plain": [
       "4"
      ]
     },
     "execution_count": 63,
     "metadata": {},
     "output_type": "execute_result"
    }
   ],
   "source": [
    "my_tup.index('bob')"
   ]
  },
  {
   "cell_type": "code",
   "execution_count": 64,
   "id": "8493b46e",
   "metadata": {},
   "outputs": [
    {
     "ename": "ValueError",
     "evalue": "tuple.index(x): x not in tuple",
     "output_type": "error",
     "traceback": [
      "\u001b[1;31m---------------------------------------------------------------------------\u001b[0m",
      "\u001b[1;31mValueError\u001b[0m                                Traceback (most recent call last)",
      "Cell \u001b[1;32mIn[64], line 1\u001b[0m\n\u001b[1;32m----> 1\u001b[0m \u001b[43mmy_tup\u001b[49m\u001b[38;5;241;43m.\u001b[39;49m\u001b[43mindex\u001b[49m\u001b[43m(\u001b[49m\u001b[38;5;124;43m'\u001b[39;49m\u001b[38;5;124;43mbob\u001b[39;49m\u001b[38;5;124;43m'\u001b[39;49m\u001b[43m,\u001b[49m\u001b[38;5;241;43m0\u001b[39;49m\u001b[43m,\u001b[49m\u001b[38;5;241;43m4\u001b[39;49m\u001b[43m)\u001b[49m\n",
      "\u001b[1;31mValueError\u001b[0m: tuple.index(x): x not in tuple"
     ]
    }
   ],
   "source": [
    "my_tup.index('bob',0,4)"
   ]
  },
  {
   "cell_type": "code",
   "execution_count": 11,
   "id": "cd9db9f3",
   "metadata": {},
   "outputs": [
    {
     "data": {
      "text/plain": [
       "4"
      ]
     },
     "execution_count": 11,
     "metadata": {},
     "output_type": "execute_result"
    }
   ],
   "source": [
    "my_tup.index('bob',0,5)"
   ]
  },
  {
   "cell_type": "code",
   "execution_count": 12,
   "id": "be3ebceb",
   "metadata": {},
   "outputs": [
    {
     "data": {
      "text/plain": [
       "5"
      ]
     },
     "execution_count": 12,
     "metadata": {},
     "output_type": "execute_result"
    }
   ],
   "source": [
    "my_tup.index('bob',5,8)"
   ]
  },
  {
   "cell_type": "markdown",
   "id": "6386671f",
   "metadata": {},
   "source": [
    "# elements & def in a (tuple)\n"
   ]
  },
  {
   "cell_type": "code",
   "execution_count": 69,
   "id": "c217797d",
   "metadata": {},
   "outputs": [],
   "source": [
    "def el_in_tup(el,tup):\n",
    "    try:\n",
    "        return tup.index(el)\n",
    "    except Exception:\n",
    "        print(\" I can't find that element\")\n",
    "        "
   ]
  },
  {
   "cell_type": "code",
   "execution_count": 70,
   "id": "85f75e4b",
   "metadata": {},
   "outputs": [
    {
     "data": {
      "text/plain": [
       "4"
      ]
     },
     "execution_count": 70,
     "metadata": {},
     "output_type": "execute_result"
    }
   ],
   "source": [
    "el_in_tup('bob',my_tup)"
   ]
  },
  {
   "cell_type": "code",
   "execution_count": 71,
   "id": "12b45c2b",
   "metadata": {},
   "outputs": [
    {
     "name": "stdout",
     "output_type": "stream",
     "text": [
      " I can't find that element\n"
     ]
    }
   ],
   "source": [
    "el_in_tup('tom',my_tup)"
   ]
  },
  {
   "cell_type": "code",
   "execution_count": 16,
   "id": "8621e358",
   "metadata": {},
   "outputs": [
    {
     "ename": "SyntaxError",
     "evalue": "incomplete input (630712196.py, line 3)",
     "output_type": "error",
     "traceback": [
      "\u001b[1;36m  Cell \u001b[1;32mIn[16], line 3\u001b[1;36m\u001b[0m\n\u001b[1;33m    print (tup.index('bob',0,3))\u001b[0m\n\u001b[1;37m                                ^\u001b[0m\n\u001b[1;31mSyntaxError\u001b[0m\u001b[1;31m:\u001b[0m incomplete input\n"
     ]
    }
   ],
   "source": [
    "def el_in_tup(el,tup):\n",
    "    try:\n",
    "        print (tup.index('bob',0,3))"
   ]
  },
  {
   "cell_type": "markdown",
   "id": "93265479",
   "metadata": {},
   "source": [
    "# Data Structure: list"
   ]
  },
  {
   "cell_type": "code",
   "execution_count": 17,
   "id": "ed32e60e",
   "metadata": {},
   "outputs": [
    {
     "data": {
      "text/plain": [
       "'    \\nlist.append(item): Adds an item to the end of the list.\\nlist.insert(index, item): Inserts an item at a specific index in the list.\\nlist.extend(iterable): Appends all items from an iterable (such as another list) to the end of the list..\\nlist.pop([index]): Removes and returns the item at the specified index. If no index is specified, it removes and returns the last item.\\nlist.index(item[, start[, end]]): Returns the index of the first occurrence of an item within a specified range.\\nlist.count(item): Returns the number of occurrences of an item in the list.\\nlist.sort(key=None, reverse=False): Sorts the items in the list in ascending order. Optional parameters can be used for custom sorting.\\nlist.reverse(): Reverses the order of the items in the list. \\n'"
      ]
     },
     "execution_count": 17,
     "metadata": {},
     "output_type": "execute_result"
    }
   ],
   "source": [
    "#len(list): Returns the length of the list.\n",
    "'''    \n",
    "list.append(item): Adds an item to the end of the list.\n",
    "list.insert(index, item): Inserts an item at a specific index in the list.\n",
    "list.extend(iterable): Appends all items from an iterable (such as another list) to the end of the list..\n",
    "list.pop([index]): Removes and returns the item at the specified index. If no index is specified, it removes and returns the last item.\n",
    "list.index(item[, start[, end]]): Returns the index of the first occurrence of an item within a specified range.\n",
    "list.count(item): Returns the number of occurrences of an item in the list.\n",
    "list.sort(key=None, reverse=False): Sorts the items in the list in ascending order. Optional parameters can be used for custom sorting.\n",
    "list.reverse(): Reverses the order of the items in the list. \n",
    "'''''"
   ]
  },
  {
   "cell_type": "code",
   "execution_count": 18,
   "id": "abb5bb59",
   "metadata": {},
   "outputs": [],
   "source": [
    "my_list = [1,6,9,1.11,5,'cfggffxhg,3.17']"
   ]
  },
  {
   "cell_type": "code",
   "execution_count": 19,
   "id": "ff39a55b",
   "metadata": {},
   "outputs": [
    {
     "data": {
      "text/plain": [
       "6"
      ]
     },
     "execution_count": 19,
     "metadata": {},
     "output_type": "execute_result"
    }
   ],
   "source": [
    "len(my_list)"
   ]
  },
  {
   "cell_type": "code",
   "execution_count": 20,
   "id": "cb8764fd",
   "metadata": {},
   "outputs": [],
   "source": [
    "my_list.append('hello world')"
   ]
  },
  {
   "cell_type": "code",
   "execution_count": 21,
   "id": "dea6e335",
   "metadata": {},
   "outputs": [
    {
     "name": "stdout",
     "output_type": "stream",
     "text": [
      "[1, 6, 9, 1.11, 5, 'cfggffxhg,3.17', 'hello world']\n"
     ]
    }
   ],
   "source": [
    "print(my_list)"
   ]
  },
  {
   "cell_type": "code",
   "execution_count": 22,
   "id": "4a7e3f45",
   "metadata": {},
   "outputs": [],
   "source": [
    "my_list.insert(4, \"new item\")"
   ]
  },
  {
   "cell_type": "code",
   "execution_count": 23,
   "id": "ad93ecc9",
   "metadata": {},
   "outputs": [
    {
     "name": "stdout",
     "output_type": "stream",
     "text": [
      "[1, 6, 9, 1.11, 'new item', 5, 'cfggffxhg,3.17', 'hello world']\n"
     ]
    }
   ],
   "source": [
    "print(my_list)"
   ]
  },
  {
   "cell_type": "code",
   "execution_count": 24,
   "id": "856e9e95",
   "metadata": {},
   "outputs": [],
   "source": [
    "my_list.extend(['new','list','items'])"
   ]
  },
  {
   "cell_type": "code",
   "execution_count": 25,
   "id": "785e8e70",
   "metadata": {},
   "outputs": [
    {
     "name": "stdout",
     "output_type": "stream",
     "text": [
      "[1, 6, 9, 1.11, 'new item', 5, 'cfggffxhg,3.17', 'hello world', 'new', 'list', 'items']\n"
     ]
    }
   ],
   "source": [
    "print(my_list)"
   ]
  },
  {
   "cell_type": "markdown",
   "id": "d80c55d9",
   "metadata": {},
   "source": [
    "#  elements & def in a (list)"
   ]
  },
  {
   "cell_type": "code",
   "execution_count": 26,
   "id": "46d738d3",
   "metadata": {},
   "outputs": [],
   "source": [
    "el_five = my_list.pop(8)"
   ]
  },
  {
   "cell_type": "code",
   "execution_count": 27,
   "id": "5995cbf7",
   "metadata": {},
   "outputs": [
    {
     "data": {
      "text/plain": [
       "'new'"
      ]
     },
     "execution_count": 27,
     "metadata": {},
     "output_type": "execute_result"
    }
   ],
   "source": [
    "el_five"
   ]
  },
  {
   "cell_type": "code",
   "execution_count": 28,
   "id": "77947aa3",
   "metadata": {},
   "outputs": [
    {
     "data": {
      "text/plain": [
       "[1,\n",
       " 6,\n",
       " 9,\n",
       " 1.11,\n",
       " 'new item',\n",
       " 5,\n",
       " 'cfggffxhg,3.17',\n",
       " 'hello world',\n",
       " 'list',\n",
       " 'items']"
      ]
     },
     "execution_count": 28,
     "metadata": {},
     "output_type": "execute_result"
    }
   ],
   "source": [
    "my_list"
   ]
  },
  {
   "cell_type": "code",
   "execution_count": 29,
   "id": "01e53007",
   "metadata": {},
   "outputs": [
    {
     "data": {
      "text/plain": [
       "[9, 1.11, 'new item', 5, 'cfggffxhg,3.17']"
      ]
     },
     "execution_count": 29,
     "metadata": {},
     "output_type": "execute_result"
    }
   ],
   "source": [
    "#slicing\n",
    "my_list[2:7]"
   ]
  },
  {
   "cell_type": "markdown",
   "id": "d16c0972",
   "metadata": {},
   "source": [
    "# Data Structure: dictionary"
   ]
  },
  {
   "cell_type": "code",
   "execution_count": 30,
   "id": "e43d4c66",
   "metadata": {},
   "outputs": [
    {
     "data": {
      "text/plain": [
       "'\\ndict[key]: Accesses the value associated with the specified key.\\ndict[key] = value: Adds or updates a key-value pair.\\ndel dict[key]: Deletes the key-value pair with the specified key.\\ndict.keys(): Returns a view object of all keys in the dictionary.\\ndict.values(): Returns a view object of all values in the dictionary.\\ndict.items(): Returns a view object of all key-value pairs in the dictionary.\\n'"
      ]
     },
     "execution_count": 30,
     "metadata": {},
     "output_type": "execute_result"
    }
   ],
   "source": [
    "#len(dict): Returns the number of key-value pairs in the dictionary.\n",
    "'''\n",
    "dict[key]: Accesses the value associated with the specified key.\n",
    "dict[key] = value: Adds or updates a key-value pair.\n",
    "del dict[key]: Deletes the key-value pair with the specified key.\n",
    "dict.keys(): Returns a view object of all keys in the dictionary.\n",
    "dict.values(): Returns a view object of all values in the dictionary.\n",
    "dict.items(): Returns a view object of all key-value pairs in the dictionary.\n",
    "'''\n"
   ]
  },
  {
   "cell_type": "code",
   "execution_count": 31,
   "id": "58ba4b56",
   "metadata": {},
   "outputs": [],
   "source": [
    "my_json = {'first name':'jill','last name':'thompson','age':31,'hair':'red','dob':'1989-09-29' }"
   ]
  },
  {
   "cell_type": "code",
   "execution_count": 32,
   "id": "afca3c97",
   "metadata": {},
   "outputs": [
    {
     "data": {
      "text/plain": [
       "{'first name': 'jill',\n",
       " 'last name': 'thompson',\n",
       " 'age': 31,\n",
       " 'hair': 'red',\n",
       " 'dob': '1989-09-29'}"
      ]
     },
     "execution_count": 32,
     "metadata": {},
     "output_type": "execute_result"
    }
   ],
   "source": [
    "my_json"
   ]
  },
  {
   "cell_type": "code",
   "execution_count": 33,
   "id": "346b9083",
   "metadata": {},
   "outputs": [
    {
     "data": {
      "text/plain": [
       "5"
      ]
     },
     "execution_count": 33,
     "metadata": {},
     "output_type": "execute_result"
    }
   ],
   "source": [
    "len(my_json)"
   ]
  },
  {
   "cell_type": "code",
   "execution_count": 34,
   "id": "a9773b48",
   "metadata": {},
   "outputs": [
    {
     "data": {
      "text/plain": [
       "'1989-09-29'"
      ]
     },
     "execution_count": 34,
     "metadata": {},
     "output_type": "execute_result"
    }
   ],
   "source": [
    "my_json['dob']"
   ]
  },
  {
   "cell_type": "code",
   "execution_count": 35,
   "id": "723ef6d9",
   "metadata": {},
   "outputs": [
    {
     "data": {
      "text/plain": [
       "31"
      ]
     },
     "execution_count": 35,
     "metadata": {},
     "output_type": "execute_result"
    }
   ],
   "source": [
    "my_json['age']"
   ]
  },
  {
   "cell_type": "code",
   "execution_count": 36,
   "id": "92c4ce3c",
   "metadata": {},
   "outputs": [],
   "source": [
    "my_json['age']=34"
   ]
  },
  {
   "cell_type": "code",
   "execution_count": 37,
   "id": "0079e165",
   "metadata": {},
   "outputs": [
    {
     "data": {
      "text/plain": [
       "34"
      ]
     },
     "execution_count": 37,
     "metadata": {},
     "output_type": "execute_result"
    }
   ],
   "source": [
    "my_json['age']"
   ]
  },
  {
   "cell_type": "markdown",
   "id": "95be8c4e",
   "metadata": {},
   "source": [
    "# Data Structure: set "
   ]
  },
  {
   "cell_type": "markdown",
   "id": "1748b620",
   "metadata": {},
   "source": [
    "# Algorithm Concept:  if...else Logic"
   ]
  },
  {
   "cell_type": "markdown",
   "id": "678d7c34",
   "metadata": {},
   "source": [
    "#i want to do division on an integer But I don't want to have the default behaviour of returning a float, if the \n",
    "#other integer goes it evenly if it doesn't go into it evenly then it should return a float."
   ]
  },
  {
   "cell_type": "code",
   "execution_count": 38,
   "id": "1435d2bc",
   "metadata": {},
   "outputs": [
    {
     "name": "stdout",
     "output_type": "stream",
     "text": [
      "3.0\n"
     ]
    }
   ],
   "source": [
    "if 5%2 == 0:\n",
    "    print(int(5/2))\n",
    "else:\n",
    "    print(6/2)"
   ]
  },
  {
   "cell_type": "code",
   "execution_count": 39,
   "id": "ed856a54",
   "metadata": {},
   "outputs": [],
   "source": [
    "def int_or_float_div(int1,int2):\n",
    "    if int1%int2 == 0:\n",
    "        return int(int1/int2)\n",
    "    else:\n",
    "        return int1/int2"
   ]
  },
  {
   "cell_type": "code",
   "execution_count": 40,
   "id": "aa4cbef8",
   "metadata": {},
   "outputs": [
    {
     "data": {
      "text/plain": [
       "2"
      ]
     },
     "execution_count": 40,
     "metadata": {},
     "output_type": "execute_result"
    }
   ],
   "source": [
    "int_or_float_div(10,5)"
   ]
  },
  {
   "cell_type": "code",
   "execution_count": 41,
   "id": "8fa596c2",
   "metadata": {},
   "outputs": [
    {
     "data": {
      "text/plain": [
       "3.3333333333333335"
      ]
     },
     "execution_count": 41,
     "metadata": {},
     "output_type": "execute_result"
    }
   ],
   "source": [
    "int_or_float_div(10,3)"
   ]
  },
  {
   "cell_type": "markdown",
   "id": "4f825e73",
   "metadata": {},
   "source": [
    "# Algorithm Concepts: for loops"
   ]
  },
  {
   "cell_type": "code",
   "execution_count": 42,
   "id": "64c7abff",
   "metadata": {},
   "outputs": [
    {
     "name": "stdout",
     "output_type": "stream",
     "text": [
      "1\n",
      "3.17\n",
      "6\n",
      "dsfadgaf\n",
      "bob\n",
      "bob\n",
      "65\n"
     ]
    }
   ],
   "source": [
    "for i in my_tup:\n",
    "    print(i)"
   ]
  },
  {
   "cell_type": "code",
   "execution_count": 43,
   "id": "b6a95913",
   "metadata": {},
   "outputs": [
    {
     "name": "stdout",
     "output_type": "stream",
     "text": [
      "1\n",
      "3.17\n",
      "6\n",
      "dsfadgafhello world\n",
      "bobhello world\n",
      "bobhello world\n",
      "65\n"
     ]
    }
   ],
   "source": [
    "for i in my_tup:\n",
    "    try:\n",
    "        print(i+\"hello world\")\n",
    "    except Exception:\n",
    "        print(i)\n",
    "            \n"
   ]
  },
  {
   "cell_type": "code",
   "execution_count": 44,
   "id": "b4709b07",
   "metadata": {},
   "outputs": [
    {
     "name": "stdout",
     "output_type": "stream",
     "text": [
      "0\n",
      "1\n",
      "2\n",
      "3\n",
      "4\n",
      "5\n",
      "6\n",
      "7\n",
      "8\n",
      "9\n"
     ]
    }
   ],
   "source": [
    "for i in range(0,10):\n",
    "    print(i)"
   ]
  },
  {
   "cell_type": "code",
   "execution_count": 45,
   "id": "20052b4e",
   "metadata": {},
   "outputs": [
    {
     "name": "stdout",
     "output_type": "stream",
     "text": [
      "1\n",
      "3.17\n",
      "6\n",
      "dsfadgaf\n",
      "bob\n",
      "bob\n",
      "65\n"
     ]
    }
   ],
   "source": [
    "for i in range (0, len(my_tup)):\n",
    "    print(my_tup[i])"
   ]
  },
  {
   "cell_type": "markdown",
   "id": "68d0512b",
   "metadata": {},
   "source": [
    "# Algorithm Concepts: while loops"
   ]
  },
  {
   "cell_type": "code",
   "execution_count": 46,
   "id": "0dad10e6",
   "metadata": {},
   "outputs": [
    {
     "name": "stdout",
     "output_type": "stream",
     "text": [
      "5\n",
      "6\n",
      "7\n",
      "8\n",
      "9\n"
     ]
    }
   ],
   "source": [
    "condition = 5\n",
    "while condition < 10:\n",
    "    print(condition)\n",
    "    condition = condition + 1"
   ]
  },
  {
   "cell_type": "code",
   "execution_count": null,
   "id": "0ba0d353",
   "metadata": {},
   "outputs": [],
   "source": []
  },
  {
   "cell_type": "code",
   "execution_count": null,
   "id": "40289db9",
   "metadata": {},
   "outputs": [],
   "source": []
  },
  {
   "cell_type": "code",
   "execution_count": null,
   "id": "9ec59fbc",
   "metadata": {},
   "outputs": [],
   "source": []
  }
 ],
 "metadata": {
  "kernelspec": {
   "display_name": "Python 3 (ipykernel)",
   "language": "python",
   "name": "python3"
  },
  "language_info": {
   "codemirror_mode": {
    "name": "ipython",
    "version": 3
   },
   "file_extension": ".py",
   "mimetype": "text/x-python",
   "name": "python",
   "nbconvert_exporter": "python",
   "pygments_lexer": "ipython3",
   "version": "3.10.9"
  }
 },
 "nbformat": 4,
 "nbformat_minor": 5
}
