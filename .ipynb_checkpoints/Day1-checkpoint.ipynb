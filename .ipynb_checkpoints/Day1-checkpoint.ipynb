{
 "cells": [
  {
   "cell_type": "code",
   "execution_count": 344,
   "id": "aa571939",
   "metadata": {},
   "outputs": [
    {
     "name": "stdout",
     "output_type": "stream",
     "text": [
      "hello world\n"
     ]
    }
   ],
   "source": [
    "print(\"hello world\")"
   ]
  },
  {
   "cell_type": "markdown",
   "id": "91a10349",
   "metadata": {},
   "source": [
    "# string"
   ]
  },
  {
   "cell_type": "code",
   "execution_count": 345,
   "id": "ef3f434c",
   "metadata": {},
   "outputs": [],
   "source": [
    "my_string = 'mynameisekta'"
   ]
  },
  {
   "cell_type": "code",
   "execution_count": 346,
   "id": "26ac25e7",
   "metadata": {},
   "outputs": [
    {
     "name": "stdout",
     "output_type": "stream",
     "text": [
      "mynameisekta\n"
     ]
    }
   ],
   "source": [
    "print(my_string)"
   ]
  },
  {
   "cell_type": "code",
   "execution_count": 347,
   "id": "eb732dd8",
   "metadata": {},
   "outputs": [
    {
     "name": "stdout",
     "output_type": "stream",
     "text": [
      "myna\n"
     ]
    }
   ],
   "source": [
    "print(my_string[0:4])"
   ]
  },
  {
   "cell_type": "code",
   "execution_count": 348,
   "id": "d0c2a4a4",
   "metadata": {},
   "outputs": [],
   "source": [
    "number_string='123456789'"
   ]
  },
  {
   "cell_type": "code",
   "execution_count": 349,
   "id": "6d4d6d66",
   "metadata": {},
   "outputs": [
    {
     "data": {
      "text/plain": [
       "'1'"
      ]
     },
     "execution_count": 349,
     "metadata": {},
     "output_type": "execute_result"
    }
   ],
   "source": [
    "number_string[0]"
   ]
  },
  {
   "cell_type": "markdown",
   "id": "d1c8c128",
   "metadata": {},
   "source": [
    "# integer"
   ]
  },
  {
   "cell_type": "code",
   "execution_count": 350,
   "id": "d1d02b1a",
   "metadata": {},
   "outputs": [],
   "source": [
    "my_int = 456"
   ]
  },
  {
   "cell_type": "code",
   "execution_count": 351,
   "id": "13eb5150",
   "metadata": {},
   "outputs": [
    {
     "name": "stdout",
     "output_type": "stream",
     "text": [
      "456\n"
     ]
    }
   ],
   "source": [
    "print(my_int)"
   ]
  },
  {
   "cell_type": "code",
   "execution_count": 352,
   "id": "94618aab",
   "metadata": {},
   "outputs": [
    {
     "data": {
      "text/plain": [
       "int"
      ]
     },
     "execution_count": 352,
     "metadata": {},
     "output_type": "execute_result"
    }
   ],
   "source": [
    "(type(my_int))"
   ]
  },
  {
   "cell_type": "markdown",
   "id": "8fa22631",
   "metadata": {},
   "source": [
    "# float"
   ]
  },
  {
   "cell_type": "code",
   "execution_count": 353,
   "id": "7344b0e0",
   "metadata": {},
   "outputs": [],
   "source": [
    "A=my_int/7"
   ]
  },
  {
   "cell_type": "code",
   "execution_count": 354,
   "id": "22b00626",
   "metadata": {},
   "outputs": [
    {
     "name": "stdout",
     "output_type": "stream",
     "text": [
      "65.14285714285714\n"
     ]
    }
   ],
   "source": [
    "print(A)"
   ]
  },
  {
   "cell_type": "code",
   "execution_count": 355,
   "id": "26942a88",
   "metadata": {},
   "outputs": [
    {
     "data": {
      "text/plain": [
       "float"
      ]
     },
     "execution_count": 355,
     "metadata": {},
     "output_type": "execute_result"
    }
   ],
   "source": [
    "type((my_int/4)*4)"
   ]
  },
  {
   "cell_type": "code",
   "execution_count": 356,
   "id": "8c68aa2c",
   "metadata": {},
   "outputs": [
    {
     "data": {
      "text/plain": [
       "(1, 0, 0)"
      ]
     },
     "execution_count": 356,
     "metadata": {},
     "output_type": "execute_result"
    }
   ],
   "source": [
    "1,000,000"
   ]
  },
  {
   "cell_type": "code",
   "execution_count": 357,
   "id": "e5d62732",
   "metadata": {},
   "outputs": [
    {
     "data": {
      "text/plain": [
       "'1,000,000'"
      ]
     },
     "execution_count": 357,
     "metadata": {},
     "output_type": "execute_result"
    }
   ],
   "source": [
    "\"1,000,000\""
   ]
  },
  {
   "cell_type": "markdown",
   "id": "534d2454",
   "metadata": {},
   "source": [
    "# Data Structure: tuple"
   ]
  },
  {
   "cell_type": "code",
   "execution_count": 358,
   "id": "858be4f6",
   "metadata": {},
   "outputs": [
    {
     "data": {
      "text/plain": [
       "'\\nlen(tuple): Returns the length of the tuple.\\ntuple.index(value): Accesses the element at the specified index.\\ntuple.count(value): Returns the number of occurrences of a value in the tuple.\\ntuple.index(value[, start[, end]]): Returns the index of the first occurrence of a value in the tuple\\n(optional start and end parameters limit the search range)\\n'"
      ]
     },
     "execution_count": 358,
     "metadata": {},
     "output_type": "execute_result"
    }
   ],
   "source": [
    "'''\n",
    "len(tuple): Returns the length of the tuple.\n",
    "tuple.index(value): Accesses the element at the specified index.\n",
    "tuple.count(value): Returns the number of occurrences of a value in the tuple.\n",
    "tuple.index(value[, start[, end]]): Returns the index of the first occurrence of a value in the tuple\n",
    "(optional start and end parameters limit the search range)\n",
    "'''\n"
   ]
  },
  {
   "cell_type": "code",
   "execution_count": 359,
   "id": "59c24b35",
   "metadata": {},
   "outputs": [],
   "source": [
    "my_tup = (1,3.17,6, 'ramayana' , 'bob' , 'bob' , 65 )"
   ]
  },
  {
   "cell_type": "code",
   "execution_count": 360,
   "id": "06cb1388",
   "metadata": {},
   "outputs": [
    {
     "data": {
      "text/plain": [
       "7"
      ]
     },
     "execution_count": 360,
     "metadata": {},
     "output_type": "execute_result"
    }
   ],
   "source": [
    "len(my_tup)"
   ]
  },
  {
   "cell_type": "code",
   "execution_count": 361,
   "id": "0af426b9",
   "metadata": {},
   "outputs": [
    {
     "name": "stdout",
     "output_type": "stream",
     "text": [
      "(1, 3.17, 6, 'ramayana', 'bob', 'bob', 65)\n"
     ]
    }
   ],
   "source": [
    "print(my_tup)"
   ]
  },
  {
   "cell_type": "code",
   "execution_count": 362,
   "id": "df8a5f88",
   "metadata": {},
   "outputs": [
    {
     "data": {
      "text/plain": [
       "0"
      ]
     },
     "execution_count": 362,
     "metadata": {},
     "output_type": "execute_result"
    }
   ],
   "source": [
    "my_tup.index(1)"
   ]
  },
  {
   "cell_type": "code",
   "execution_count": 363,
   "id": "8c8c87f3",
   "metadata": {},
   "outputs": [
    {
     "data": {
      "text/plain": [
       "4"
      ]
     },
     "execution_count": 363,
     "metadata": {},
     "output_type": "execute_result"
    }
   ],
   "source": [
    "my_tup.index('bob')"
   ]
  },
  {
   "cell_type": "code",
   "execution_count": 364,
   "id": "8493b46e",
   "metadata": {},
   "outputs": [
    {
     "ename": "ValueError",
     "evalue": "tuple.index(x): x not in tuple",
     "output_type": "error",
     "traceback": [
      "\u001b[1;31m---------------------------------------------------------------------------\u001b[0m",
      "\u001b[1;31mValueError\u001b[0m                                Traceback (most recent call last)",
      "Cell \u001b[1;32mIn[364], line 1\u001b[0m\n\u001b[1;32m----> 1\u001b[0m \u001b[43mmy_tup\u001b[49m\u001b[38;5;241;43m.\u001b[39;49m\u001b[43mindex\u001b[49m\u001b[43m(\u001b[49m\u001b[38;5;124;43m'\u001b[39;49m\u001b[38;5;124;43mbob\u001b[39;49m\u001b[38;5;124;43m'\u001b[39;49m\u001b[43m,\u001b[49m\u001b[38;5;241;43m0\u001b[39;49m\u001b[43m,\u001b[49m\u001b[38;5;241;43m4\u001b[39;49m\u001b[43m)\u001b[49m\n",
      "\u001b[1;31mValueError\u001b[0m: tuple.index(x): x not in tuple"
     ]
    }
   ],
   "source": [
    "my_tup.index('bob',0,4)"
   ]
  },
  {
   "cell_type": "code",
   "execution_count": 365,
   "id": "cd9db9f3",
   "metadata": {},
   "outputs": [
    {
     "data": {
      "text/plain": [
       "4"
      ]
     },
     "execution_count": 365,
     "metadata": {},
     "output_type": "execute_result"
    }
   ],
   "source": [
    "my_tup.index('bob',3,5)"
   ]
  },
  {
   "cell_type": "code",
   "execution_count": 366,
   "id": "be3ebceb",
   "metadata": {},
   "outputs": [
    {
     "data": {
      "text/plain": [
       "5"
      ]
     },
     "execution_count": 366,
     "metadata": {},
     "output_type": "execute_result"
    }
   ],
   "source": [
    "my_tup.index('bob',5,8)"
   ]
  },
  {
   "cell_type": "code",
   "execution_count": 367,
   "id": "5aa65f37",
   "metadata": {},
   "outputs": [
    {
     "data": {
      "text/plain": [
       "2"
      ]
     },
     "execution_count": 367,
     "metadata": {},
     "output_type": "execute_result"
    }
   ],
   "source": [
    "my_tup.count('bob')"
   ]
  },
  {
   "cell_type": "code",
   "execution_count": 368,
   "id": "9a0a6875",
   "metadata": {},
   "outputs": [
    {
     "data": {
      "text/plain": [
       "1"
      ]
     },
     "execution_count": 368,
     "metadata": {},
     "output_type": "execute_result"
    }
   ],
   "source": [
    "my_tup.count(65)"
   ]
  },
  {
   "cell_type": "markdown",
   "id": "6386671f",
   "metadata": {},
   "source": [
    "# elements & def in a (tuple)\n"
   ]
  },
  {
   "cell_type": "code",
   "execution_count": 369,
   "id": "c217797d",
   "metadata": {},
   "outputs": [],
   "source": [
    "def el_in_tup(el,tup):\n",
    "    try:\n",
    "        return tup.index(el)\n",
    "    except Exception:\n",
    "        print(\"I can't find that element\") #NONE#\n",
    "        "
   ]
  },
  {
   "cell_type": "code",
   "execution_count": 370,
   "id": "85f75e4b",
   "metadata": {},
   "outputs": [
    {
     "data": {
      "text/plain": [
       "4"
      ]
     },
     "execution_count": 370,
     "metadata": {},
     "output_type": "execute_result"
    }
   ],
   "source": [
    "el_in_tup('bob',my_tup)"
   ]
  },
  {
   "cell_type": "code",
   "execution_count": 371,
   "id": "12b45c2b",
   "metadata": {},
   "outputs": [
    {
     "name": "stdout",
     "output_type": "stream",
     "text": [
      "I can't find that element\n"
     ]
    }
   ],
   "source": [
    "el_in_tup('tom',my_tup)"
   ]
  },
  {
   "cell_type": "code",
   "execution_count": 372,
   "id": "8621e358",
   "metadata": {},
   "outputs": [],
   "source": [
    "def el_in_tup(el,tup):\n",
    "    try:\n",
    "        return tup.index('ramayana',0,3)\n",
    "    except Exception:\n",
    "        print (\"Nothing\")\n",
    "        "
   ]
  },
  {
   "cell_type": "code",
   "execution_count": 373,
   "id": "762134e1",
   "metadata": {},
   "outputs": [
    {
     "name": "stdout",
     "output_type": "stream",
     "text": [
      "Nothing\n"
     ]
    }
   ],
   "source": [
    "el_in_tup('ramayana',my_tup)"
   ]
  },
  {
   "cell_type": "code",
   "execution_count": 374,
   "id": "875c91bc",
   "metadata": {},
   "outputs": [],
   "source": [
    "def el_in_tup(el,tup):\n",
    "    try:\n",
    "        return tup.index('ramayana',2,6)\n",
    "    except Exception:\n",
    "        print (\"Nothing\")\n",
    "        "
   ]
  },
  {
   "cell_type": "code",
   "execution_count": 375,
   "id": "96422887",
   "metadata": {},
   "outputs": [
    {
     "data": {
      "text/plain": [
       "3"
      ]
     },
     "execution_count": 375,
     "metadata": {},
     "output_type": "execute_result"
    }
   ],
   "source": [
    "el_in_tup('ramayana',my_tup)"
   ]
  },
  {
   "cell_type": "markdown",
   "id": "93265479",
   "metadata": {},
   "source": [
    "# Data Structure: list"
   ]
  },
  {
   "cell_type": "code",
   "execution_count": 376,
   "id": "ed32e60e",
   "metadata": {},
   "outputs": [
    {
     "data": {
      "text/plain": [
       "'\\nlen(list): Returns the length of the list.    \\nlist.append(item): Adds an item to the end of the list.\\nlist.insert(index, item): Inserts an item at a specific index in the list.\\nlist.extend(iterable): Appends all items from an iterable (such as another list) to the end of the list..\\nlist.pop([index]): Removes and returns the item at the specified index. If no index is specified,\\n                   it removes and returns the last item.\\nlist.index(item[, start[, end]]): Returns the index of the first occurrence of an item within a specified range.\\nlist.count(item): Returns the number of occurrences of an item in the list.\\nlist.sort(key=None, reverse=False): Sorts the items in the list in ascending order. Optional parameters can be \\n                                    used for custom sorting.\\nlist.reverse(): Reverses the order of the items in the list. \\n'"
      ]
     },
     "execution_count": 376,
     "metadata": {},
     "output_type": "execute_result"
    }
   ],
   "source": [
    "'''\n",
    "len(list): Returns the length of the list.    \n",
    "list.append(item): Adds an item to the end of the list.\n",
    "list.insert(index, item): Inserts an item at a specific index in the list.\n",
    "list.extend(iterable): Appends all items from an iterable (such as another list) to the end of the list..\n",
    "list.pop([index]): Removes and returns the item at the specified index. If no index is specified,\n",
    "                   it removes and returns the last item.\n",
    "list.index(item[, start[, end]]): Returns the index of the first occurrence of an item within a specified range.\n",
    "list.count(item): Returns the number of occurrences of an item in the list.\n",
    "list.sort(key=None, reverse=False): Sorts the items in the list in ascending order. Optional parameters can be \n",
    "                                    used for custom sorting.\n",
    "list.reverse(): Reverses the order of the items in the list. \n",
    "'''''"
   ]
  },
  {
   "cell_type": "code",
   "execution_count": 377,
   "id": "abb5bb59",
   "metadata": {},
   "outputs": [],
   "source": [
    "my_list = [1,6,9,1.11,5,'cfggffxhg,3.17']"
   ]
  },
  {
   "cell_type": "code",
   "execution_count": 378,
   "id": "ff39a55b",
   "metadata": {},
   "outputs": [
    {
     "data": {
      "text/plain": [
       "6"
      ]
     },
     "execution_count": 378,
     "metadata": {},
     "output_type": "execute_result"
    }
   ],
   "source": [
    "len(my_list)"
   ]
  },
  {
   "cell_type": "code",
   "execution_count": 379,
   "id": "cb8764fd",
   "metadata": {},
   "outputs": [],
   "source": [
    "my_list.append('hello world')"
   ]
  },
  {
   "cell_type": "code",
   "execution_count": 380,
   "id": "dea6e335",
   "metadata": {},
   "outputs": [
    {
     "name": "stdout",
     "output_type": "stream",
     "text": [
      "[1, 6, 9, 1.11, 5, 'cfggffxhg,3.17', 'hello world']\n"
     ]
    }
   ],
   "source": [
    "print(my_list)"
   ]
  },
  {
   "cell_type": "code",
   "execution_count": 381,
   "id": "4a7e3f45",
   "metadata": {},
   "outputs": [],
   "source": [
    "my_list.insert(4, \"new item\")"
   ]
  },
  {
   "cell_type": "code",
   "execution_count": 382,
   "id": "ad93ecc9",
   "metadata": {},
   "outputs": [
    {
     "name": "stdout",
     "output_type": "stream",
     "text": [
      "[1, 6, 9, 1.11, 'new item', 5, 'cfggffxhg,3.17', 'hello world']\n"
     ]
    }
   ],
   "source": [
    "print(my_list)"
   ]
  },
  {
   "cell_type": "code",
   "execution_count": 383,
   "id": "856e9e95",
   "metadata": {},
   "outputs": [],
   "source": [
    "my_list.extend(['new','list','items'])"
   ]
  },
  {
   "cell_type": "code",
   "execution_count": 384,
   "id": "785e8e70",
   "metadata": {},
   "outputs": [
    {
     "name": "stdout",
     "output_type": "stream",
     "text": [
      "[1, 6, 9, 1.11, 'new item', 5, 'cfggffxhg,3.17', 'hello world', 'new', 'list', 'items']\n"
     ]
    }
   ],
   "source": [
    "print(my_list)"
   ]
  },
  {
   "cell_type": "markdown",
   "id": "d80c55d9",
   "metadata": {},
   "source": [
    "#  elements & def in a (list)"
   ]
  },
  {
   "cell_type": "code",
   "execution_count": 385,
   "id": "2bfafd6e",
   "metadata": {},
   "outputs": [],
   "source": [
    "el_two = my_list.pop(2)"
   ]
  },
  {
   "cell_type": "code",
   "execution_count": 386,
   "id": "6c700ee9",
   "metadata": {},
   "outputs": [
    {
     "data": {
      "text/plain": [
       "9"
      ]
     },
     "execution_count": 386,
     "metadata": {},
     "output_type": "execute_result"
    }
   ],
   "source": [
    "el_two"
   ]
  },
  {
   "cell_type": "code",
   "execution_count": 387,
   "id": "46d738d3",
   "metadata": {},
   "outputs": [],
   "source": [
    "el_five = my_list.pop(5)"
   ]
  },
  {
   "cell_type": "code",
   "execution_count": 388,
   "id": "5995cbf7",
   "metadata": {},
   "outputs": [
    {
     "data": {
      "text/plain": [
       "'cfggffxhg,3.17'"
      ]
     },
     "execution_count": 388,
     "metadata": {},
     "output_type": "execute_result"
    }
   ],
   "source": [
    "el_five"
   ]
  },
  {
   "cell_type": "code",
   "execution_count": 389,
   "id": "77947aa3",
   "metadata": {},
   "outputs": [
    {
     "data": {
      "text/plain": [
       "[1, 6, 1.11, 'new item', 5, 'hello world', 'new', 'list', 'items']"
      ]
     },
     "execution_count": 389,
     "metadata": {},
     "output_type": "execute_result"
    }
   ],
   "source": [
    "my_list"
   ]
  },
  {
   "cell_type": "code",
   "execution_count": 390,
   "id": "01e53007",
   "metadata": {},
   "outputs": [
    {
     "data": {
      "text/plain": [
       "[1.11, 'new item', 5, 'hello world', 'new']"
      ]
     },
     "execution_count": 390,
     "metadata": {},
     "output_type": "execute_result"
    }
   ],
   "source": [
    "#slicing\n",
    "my_list[2:7]"
   ]
  },
  {
   "cell_type": "markdown",
   "id": "d16c0972",
   "metadata": {},
   "source": [
    "# Data Structure: dictionary"
   ]
  },
  {
   "cell_type": "code",
   "execution_count": 391,
   "id": "e43d4c66",
   "metadata": {},
   "outputs": [
    {
     "data": {
      "text/plain": [
       "'\\nlen(dict): Returns the number of key-value pairs in the dictionary.\\ndict[key]: Accesses the value associated with the specified key.\\ndict[key] = value: Adds or updates a key-value pair.\\ndel dict[key]: Deletes the key-value pair with the specified key.\\ndict.keys(): Returns a view object of all keys in the dictionary.\\ndict.values(): Returns a view object of all values in the dictionary.\\ndict.items(): Returns a view object of all key-value pairs in the dictionary.\\n'"
      ]
     },
     "execution_count": 391,
     "metadata": {},
     "output_type": "execute_result"
    }
   ],
   "source": [
    "'''\n",
    "len(dict): Returns the number of key-value pairs in the dictionary.\n",
    "dict[key]: Accesses the value associated with the specified key.\n",
    "dict[key] = value: Adds or updates a key-value pair.\n",
    "del dict[key]: Deletes the key-value pair with the specified key.\n",
    "dict.keys(): Returns a view object of all keys in the dictionary.\n",
    "dict.values(): Returns a view object of all values in the dictionary.\n",
    "dict.items(): Returns a view object of all key-value pairs in the dictionary.\n",
    "'''\n"
   ]
  },
  {
   "cell_type": "code",
   "execution_count": 392,
   "id": "58ba4b56",
   "metadata": {},
   "outputs": [],
   "source": [
    "my_json = {'first name':'jill','last name':'thompson','age':31,'hair':'red','dob':'1989-09-29' }"
   ]
  },
  {
   "cell_type": "code",
   "execution_count": 393,
   "id": "afca3c97",
   "metadata": {},
   "outputs": [
    {
     "data": {
      "text/plain": [
       "{'first name': 'jill',\n",
       " 'last name': 'thompson',\n",
       " 'age': 31,\n",
       " 'hair': 'red',\n",
       " 'dob': '1989-09-29'}"
      ]
     },
     "execution_count": 393,
     "metadata": {},
     "output_type": "execute_result"
    }
   ],
   "source": [
    "my_json"
   ]
  },
  {
   "cell_type": "code",
   "execution_count": 394,
   "id": "346b9083",
   "metadata": {},
   "outputs": [
    {
     "data": {
      "text/plain": [
       "5"
      ]
     },
     "execution_count": 394,
     "metadata": {},
     "output_type": "execute_result"
    }
   ],
   "source": [
    "len(my_json)"
   ]
  },
  {
   "cell_type": "code",
   "execution_count": 395,
   "id": "a9773b48",
   "metadata": {},
   "outputs": [
    {
     "data": {
      "text/plain": [
       "'1989-09-29'"
      ]
     },
     "execution_count": 395,
     "metadata": {},
     "output_type": "execute_result"
    }
   ],
   "source": [
    "my_json['dob']"
   ]
  },
  {
   "cell_type": "code",
   "execution_count": 396,
   "id": "723ef6d9",
   "metadata": {},
   "outputs": [
    {
     "data": {
      "text/plain": [
       "31"
      ]
     },
     "execution_count": 396,
     "metadata": {},
     "output_type": "execute_result"
    }
   ],
   "source": [
    "my_json['age']"
   ]
  },
  {
   "cell_type": "code",
   "execution_count": 397,
   "id": "92c4ce3c",
   "metadata": {},
   "outputs": [],
   "source": [
    "my_json['age']=34"
   ]
  },
  {
   "cell_type": "code",
   "execution_count": 398,
   "id": "0079e165",
   "metadata": {},
   "outputs": [
    {
     "data": {
      "text/plain": [
       "34"
      ]
     },
     "execution_count": 398,
     "metadata": {},
     "output_type": "execute_result"
    }
   ],
   "source": [
    "my_json['age']"
   ]
  },
  {
   "cell_type": "code",
   "execution_count": 399,
   "id": "eaced212",
   "metadata": {},
   "outputs": [
    {
     "data": {
      "text/plain": [
       "dict_keys(['first name', 'last name', 'age', 'hair', 'dob'])"
      ]
     },
     "execution_count": 399,
     "metadata": {},
     "output_type": "execute_result"
    }
   ],
   "source": [
    "my_json.keys()"
   ]
  },
  {
   "cell_type": "code",
   "execution_count": 400,
   "id": "015ace32",
   "metadata": {},
   "outputs": [
    {
     "data": {
      "text/plain": [
       "dict_values(['jill', 'thompson', 34, 'red', '1989-09-29'])"
      ]
     },
     "execution_count": 400,
     "metadata": {},
     "output_type": "execute_result"
    }
   ],
   "source": [
    "my_json.values()"
   ]
  },
  {
   "cell_type": "code",
   "execution_count": 401,
   "id": "c0148377",
   "metadata": {},
   "outputs": [
    {
     "data": {
      "text/plain": [
       "dict_items([('first name', 'jill'), ('last name', 'thompson'), ('age', 34), ('hair', 'red'), ('dob', '1989-09-29')])"
      ]
     },
     "execution_count": 401,
     "metadata": {},
     "output_type": "execute_result"
    }
   ],
   "source": [
    "my_json.items()"
   ]
  },
  {
   "cell_type": "markdown",
   "id": "95be8c4e",
   "metadata": {},
   "source": [
    "# Data Structure: set "
   ]
  },
  {
   "cell_type": "markdown",
   "id": "1748b620",
   "metadata": {},
   "source": [
    "# Algorithm Concept:  if...else Logic"
   ]
  },
  {
   "cell_type": "markdown",
   "id": "678d7c34",
   "metadata": {},
   "source": [
    "i want to do division on an integer But I don't want to have the default behaviour of returning a float, if the \n",
    "other integer goes it evenly if it doesn't go into it evenly then it should return a float."
   ]
  },
  {
   "cell_type": "code",
   "execution_count": 402,
   "id": "1435d2bc",
   "metadata": {},
   "outputs": [
    {
     "name": "stdout",
     "output_type": "stream",
     "text": [
      "3\n"
     ]
    }
   ],
   "source": [
    "if 6%2 == 0:\n",
    "    print(int(6/2))\n",
    "else:\n",
    "    print(6/2)"
   ]
  },
  {
   "cell_type": "code",
   "execution_count": 403,
   "id": "ed856a54",
   "metadata": {},
   "outputs": [],
   "source": [
    "def int_or_float_div(int1,int2):\n",
    "    if int1%int2 == 0:\n",
    "        return int(int1/int2)\n",
    "    else:\n",
    "        return int1/int2"
   ]
  },
  {
   "cell_type": "code",
   "execution_count": 404,
   "id": "aa4cbef8",
   "metadata": {},
   "outputs": [
    {
     "data": {
      "text/plain": [
       "2"
      ]
     },
     "execution_count": 404,
     "metadata": {},
     "output_type": "execute_result"
    }
   ],
   "source": [
    "int_or_float_div(10,5)"
   ]
  },
  {
   "cell_type": "code",
   "execution_count": 405,
   "id": "8fa596c2",
   "metadata": {},
   "outputs": [
    {
     "data": {
      "text/plain": [
       "3.3333333333333335"
      ]
     },
     "execution_count": 405,
     "metadata": {},
     "output_type": "execute_result"
    }
   ],
   "source": [
    "int_or_float_div(10,3)"
   ]
  },
  {
   "cell_type": "markdown",
   "id": "4f825e73",
   "metadata": {},
   "source": [
    "# Algorithm Concepts: for loops"
   ]
  },
  {
   "cell_type": "code",
   "execution_count": 406,
   "id": "64c7abff",
   "metadata": {},
   "outputs": [
    {
     "name": "stdout",
     "output_type": "stream",
     "text": [
      "1\n",
      "3.17\n",
      "6\n",
      "ramayana\n",
      "bob\n",
      "bob\n",
      "65\n"
     ]
    }
   ],
   "source": [
    "for i in my_tup:\n",
    "    print(i)"
   ]
  },
  {
   "cell_type": "code",
   "execution_count": 407,
   "id": "b6a95913",
   "metadata": {},
   "outputs": [
    {
     "name": "stdout",
     "output_type": "stream",
     "text": [
      "1\n",
      "3.17\n",
      "6\n",
      "ramayanahello world\n",
      "bobhello world\n",
      "bobhello world\n",
      "65\n"
     ]
    }
   ],
   "source": [
    "for i in my_tup:\n",
    "    try:\n",
    "        print(i+\"hello world\")\n",
    "    except Exception:\n",
    "        print(i)\n",
    "            \n"
   ]
  },
  {
   "cell_type": "code",
   "execution_count": 408,
   "id": "b4709b07",
   "metadata": {},
   "outputs": [
    {
     "name": "stdout",
     "output_type": "stream",
     "text": [
      "0\n",
      "1\n",
      "2\n",
      "3\n",
      "4\n",
      "5\n",
      "6\n",
      "7\n",
      "8\n",
      "9\n"
     ]
    }
   ],
   "source": [
    "for i in range(0,10):\n",
    "    print(i)"
   ]
  },
  {
   "cell_type": "code",
   "execution_count": 409,
   "id": "20052b4e",
   "metadata": {},
   "outputs": [
    {
     "name": "stdout",
     "output_type": "stream",
     "text": [
      "1\n",
      "3.17\n",
      "6\n",
      "ramayana\n",
      "bob\n",
      "bob\n",
      "65\n"
     ]
    }
   ],
   "source": [
    "for i in range (0, len(my_tup)):\n",
    "    print(my_tup[i])"
   ]
  },
  {
   "cell_type": "markdown",
   "id": "68d0512b",
   "metadata": {},
   "source": [
    "# Algorithm Concepts: while loops"
   ]
  },
  {
   "cell_type": "code",
   "execution_count": 410,
   "id": "0dad10e6",
   "metadata": {},
   "outputs": [
    {
     "name": "stdout",
     "output_type": "stream",
     "text": [
      "5\n",
      "6\n",
      "7\n",
      "8\n",
      "9\n"
     ]
    }
   ],
   "source": [
    "condition = 5\n",
    "while condition < 10:\n",
    "    print(condition)\n",
    "    condition = condition + 1"
   ]
  },
  {
   "cell_type": "code",
   "execution_count": null,
   "id": "898ee9bf",
   "metadata": {},
   "outputs": [],
   "source": []
  },
  {
   "cell_type": "code",
   "execution_count": null,
   "id": "70b76498",
   "metadata": {},
   "outputs": [],
   "source": []
  },
  {
   "cell_type": "code",
   "execution_count": null,
   "id": "e4d5b140",
   "metadata": {},
   "outputs": [],
   "source": []
  }
 ],
 "metadata": {
  "kernelspec": {
   "display_name": "Python 3 (ipykernel)",
   "language": "python",
   "name": "python3"
  },
  "language_info": {
   "codemirror_mode": {
    "name": "ipython",
    "version": 3
   },
   "file_extension": ".py",
   "mimetype": "text/x-python",
   "name": "python",
   "nbconvert_exporter": "python",
   "pygments_lexer": "ipython3",
   "version": "3.10.9"
  }
 },
 "nbformat": 4,
 "nbformat_minor": 5
}
